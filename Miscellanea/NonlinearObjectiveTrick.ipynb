{
 "cells": [
  {
   "cell_type": "markdown",
   "metadata": {},
   "source": [
    "# NONLINEARITY IN OBJECTIVE FUNCTIONS - AN LP SOLUTION"
   ]
  },
  {
   "cell_type": "code",
   "execution_count": 4,
   "metadata": {},
   "outputs": [],
   "source": [
    "#Import Library Section\n",
    "import cvxpy as cp\n",
    "import numpy as np"
   ]
  },
  {
   "cell_type": "markdown",
   "metadata": {},
   "source": [
    "**--------------------------------------------------------------------------------------------------------------**\n",
    "\n",
    "**CASE 1 -**\n",
    "\n",
    "A machine shop has a drill press and a milling machine which are used to produce two parts A and B. The required time (in minutes) per unit part on each machine is shown in the table below. The shop must produce at least 50 units in total (both A and B) and at least 30 units of part A, and it can make at most 100 units of part A and 100 units of part B. You can assume that the shop can make fractional amount of the parts. Formulate an LP to minimize the absolute difference between the total running time of the drill press and that of the milling machine. You need to define clearly the meaning of the variables that you use in the LP. Finally, you need to implement your model in CVXPY and print out the optimal solution and objective value."
   ]
  },
  {
   "cell_type": "markdown",
   "metadata": {},
   "source": [
    "**Variables -**\n",
    "\n",
    "a = number of units produced for A\n",
    "\n",
    "b = number of units produced for B\n",
    "\n",
    "z = value to be minimized\n",
    "\n",
    "Minutes for production per machine -\n",
    "\n",
    "\n",
    "         Drill Press    Milling Machine\n",
    "\n",
    "    A    3              4\n",
    "    B    5              3\n",
    "\n",
    "\n",
    "**Objective function to be minimized -**\n",
    "\n",
    "z\n",
    "\n",
    "**Constraints -**\n",
    "\n",
    "1. a + b >= 50\n",
    "\n",
    "2. a >= 30\n",
    "\n",
    "3. a <= 100\n",
    "\n",
    "4. b <= 100\n",
    "\n",
    "5. -z <= ((3a + 5b) - (4a + 3b)) <= z\n",
    "\n",
    "6. b >= 0\n"
   ]
  },
  {
   "cell_type": "code",
   "execution_count": 2,
   "metadata": {},
   "outputs": [
    {
     "name": "stdout",
     "output_type": "stream",
     "text": [
      "\n",
      "The optimal value is 0.0\n",
      "Rounded x values: [57.95, 28.97, 0.0] \n",
      "\n"
     ]
    }
   ],
   "source": [
    "x = cp.Variable(3)\n",
    "\n",
    "a = x[0]\n",
    "b = x[1]\n",
    "z = x[2]\n",
    "\n",
    "objective = cp.Minimize(z)\n",
    "\n",
    "constraints = [a + b >= 50,\n",
    "               a >= 30,\n",
    "               a <= 100,\n",
    "               b <= 100,\n",
    "               -z <= ((3*a + 5*b) - (4*a + 3*b)),\n",
    "               ((3*a + 5*b) - (4*a + 3*b)) <= z,\n",
    "               b >= 0\n",
    "            ]\n",
    "\n",
    "model = cp.Problem(objective, constraints)\n",
    "model.solve()\n",
    "print(\"\\nThe optimal value is\", round(model.value,2))\n",
    "print(\"Rounded x values:\", [round(i,2) for i in x.value],\"\\n\")\n",
    "\n",
    "#sanity check\n",
    "#drill = 57.95*(3) + 28.97*(5)\n",
    "#miller = 57.95*(4) + 28.97*(3)\n",
    "#print(drill, miller)"
   ]
  },
  {
   "cell_type": "markdown",
   "metadata": {},
   "source": [
    "**Hence, the minimum absolute difference possible between the two machines within the constraints given is 0. And this case with no difference in their times to produce occurs when there are 57.95 units of A and 28.97 units of B produced.**\n",
    "\n",
    "**--------------------------------------------------------------------------------------------------------------**"
   ]
  },
  {
   "cell_type": "markdown",
   "metadata": {},
   "source": [
    "**CASE 2 -**\n",
    "\n",
    "I am a retailer of suitcases. I can purchase suitcases from two suppliers. Supplier 1 sells one suitcase for $10. Supplier 2 sells suitcases in the following fashion:\n",
    "\n",
    "(a)\n",
    "\n",
    "It is a fixed cost of 1200 usd for purchasing 100 or less suitcases. (Assume that Supplier 2 charges 1200 usd even if no suitcases are purchased from supplier 2.)\n",
    "\n",
    "(b)\n",
    "\n",
    "For each suitcase more that 100 suitcases purchased, there is an additional charge of 5 usd per suitcase.\n",
    "I want to buy 500 suitcases. Formulate a linear program to minimize the total cost of my purchase. You should treat the number of suitcases as a continuous variable. You need to define clearly the meaning of the variables that you use. Finally, implement and solve your LP in CVXPY and print out the optimal solution and objective value.\n",
    "\n",
    "Hint: You may encounter a nonlinear function involving the maximum function. But you can reformulate such nonlinear function using linear constraints."
   ]
  },
  {
   "cell_type": "markdown",
   "metadata": {},
   "source": [
    "**Variables -**\n",
    "\n",
    "a = number of suitcases from supplier 1\n",
    "\n",
    "b = number of suitcases from supplier 2\n",
    "\n",
    "cost = minimize total cost = cost_a + cost_b (sum of cost incurred by a and b)\n",
    "\n",
    "\n",
    "**Objective function to be minimized -**\n",
    "\n",
    "cost_b + 10a\n",
    "\n",
    "**Constraints -**\n",
    "\n",
    "1. a + b = 500\n",
    "\n",
    "2. fx = max{(1200 + 5(b-100)), 1200} \n",
    "    \n",
    "    **which could be rewritten as...**\n",
    "    \n",
    "    (1200 + 5(b-100)) <= cost_b\n",
    "    \n",
    "    1200 <= cost_b\n",
    "    \n",
    "    \n",
    "3. a >= 0\n",
    "\n",
    "4. b >= 0\n"
   ]
  },
  {
   "cell_type": "code",
   "execution_count": 3,
   "metadata": {},
   "outputs": [
    {
     "name": "stdout",
     "output_type": "stream",
     "text": [
      "\n",
      "The optimal value is 3200.0\n",
      "Rounded x values: [0.0, 500.0, 3200.0] \n",
      "\n"
     ]
    }
   ],
   "source": [
    "x = cp.Variable(3)\n",
    "\n",
    "a = x[0]\n",
    "b = x[1]\n",
    "cost = x[2]\n",
    "\n",
    "objective = cp.Minimize(cost)\n",
    "\n",
    "constraints = [a + b == 500,\n",
    "               (1200 + 5*(b-100))+10*a <= cost,\n",
    "               1200+(10*a) <= cost,\n",
    "               a >= 0,\n",
    "               b >= 0\n",
    "            ]\n",
    "\n",
    "model = cp.Problem(objective, constraints)\n",
    "model.solve()\n",
    "print(\"\\nThe optimal value is\", round(model.value,2))\n",
    "print(\"Rounded x values:\", [round(i,2) for i in x.value],\"\\n\")\n"
   ]
  },
  {
   "cell_type": "markdown",
   "metadata": {},
   "source": [
    "**Hence, minimum cost of 3200 USD would be achieved by buying no units from supplier 1 and all 500 units from supplier 2.**\n",
    "\n",
    "**--------------------------------------------------------------------------------------------------------------**"
   ]
  },
  {
   "cell_type": "markdown",
   "metadata": {},
   "source": [
    "**--------------------------------------------------------------------------------------------------------------**\n",
    "\n",
    "**THE END**\n",
    "\n",
    "**--------------------------------------------------------------------------------------------------------------**"
   ]
  }
 ],
 "metadata": {
  "kernelspec": {
   "display_name": "Python 3",
   "language": "python",
   "name": "python3"
  },
  "language_info": {
   "codemirror_mode": {
    "name": "ipython",
    "version": 3
   },
   "file_extension": ".py",
   "mimetype": "text/x-python",
   "name": "python",
   "nbconvert_exporter": "python",
   "pygments_lexer": "ipython3",
   "version": "3.8.5"
  }
 },
 "nbformat": 4,
 "nbformat_minor": 4
}
