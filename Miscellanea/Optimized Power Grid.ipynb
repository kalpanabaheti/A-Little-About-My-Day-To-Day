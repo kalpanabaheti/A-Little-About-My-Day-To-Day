{
 "cells": [
  {
   "cell_type": "code",
   "execution_count": 1,
   "metadata": {},
   "outputs": [
    {
     "name": "stdout",
     "output_type": "stream",
     "text": [
      "(CVXPY) Feb 18 02:09:52 AM: Encountered unexpected exception importing solver SCS:\n",
      "ImportError('dlopen(/Users/Kalpana/opt/anaconda3/lib/python3.8/site-packages/_scs_direct.cpython-38-darwin.so, 2): Symbol not found: _aligned_alloc\\n  Referenced from: /Users/Kalpana/opt/anaconda3/lib/python3.8/site-packages/scs/.dylibs/libgomp.1.dylib (which was built for Mac OS X 10.15)\\n  Expected in: /usr/lib/libSystem.B.dylib\\n in /Users/Kalpana/opt/anaconda3/lib/python3.8/site-packages/scs/.dylibs/libgomp.1.dylib')\n",
      "Imported!\n"
     ]
    }
   ],
   "source": [
    "import numpy as np\n",
    "from cvxpy import *\n",
    "print(\"Imported!\")"
   ]
  },
  {
   "cell_type": "code",
   "execution_count": 12,
   "metadata": {},
   "outputs": [
    {
     "name": "stdout",
     "output_type": "stream",
     "text": [
      "\n",
      "The optimal value is 3310.29\n",
      "x values: [ 0.8297948  -5.90468914 -0.50130165  0.36585063  8.21074719 -2.50353853]\n",
      "rounded x values: [0.83, -5.9, -0.5, 0.37, 8.21, -2.5]\n"
     ]
    }
   ],
   "source": [
    "c = np.array([16,20,8])\n",
    "bp_min = np.array([20,20,10])\n",
    "bp_max = np.array([200,150,150])\n",
    "n = cvxpy.Variable(6)\n",
    "x = [n[0]-n[1],\n",
    "    n[1]-n[2],\n",
    "    n[5]-n[0],\n",
    "    n[4]-n[5],\n",
    "    n[2]-n[3],\n",
    "    n[3]-n[4]\n",
    "    ]\n",
    "\n",
    "total_cost = c[0]*(11.6*x[0] - 10.6*x[2]) + c[1]*(-5.9*x[1] + 13.7*x[4]) + c[2]*(5.6*x[3] - 9.8*x[5])\n",
    "\n",
    "objective = cvxpy.Minimize(total_cost)\n",
    "\n",
    "constraints =  [11.6*x[0] - 10.6*x[2] >= bp_min[0],\n",
    "                -5.9*x[1] + 13.7*x[4] >= bp_min[1],\n",
    "                5.6*x[3] - 9.8*x[5] >= bp_min[2],\n",
    "                11.6*x[0] - 10.6*x[2] <= bp_max[0],\n",
    "                -5.9*x[1] + 13.7*x[4] <= bp_max[1],\n",
    "                5.6*x[3] - 9.8*x[5] <= bp_max[2],\n",
    "                11.6*x[0] - 5.9*x[1] == 110,\n",
    "                -10.5*x[2] + 5.6*x[3] == 95,\n",
    "                13.7*x[4] - 9.8*x[5] == 65,\n",
    "                abs(x[0]*11.6) <= 100,\n",
    "                abs(x[1]*5.9) <= 110,\n",
    "                abs(x[2]*10.5) <= 40,\n",
    "                abs(x[3]*5.6) <= 60,\n",
    "                abs(x[4]*13.7) <= 50,\n",
    "                abs(x[5]*9.8) <= 80,\n",
    "            ]\n",
    "\n",
    "model = cvxpy.Problem(objective, constraints)\n",
    "model.solve()\n",
    "print(\"\\nThe optimal value is\", round(model.value,2))\n",
    "print(\"x values:\",  n.value)\n",
    "\n",
    "print(\"rounded x values:\", [round(i,2) for i in n.value] )\n"
   ]
  },
  {
   "cell_type": "code",
   "execution_count": 13,
   "metadata": {},
   "outputs": [
    {
     "name": "stdout",
     "output_type": "stream",
     "text": [
      "The dual value for constraint  6  : -14.4\n",
      "The dual value for constraint  7  : -17.92\n",
      "The dual value for constraint  8  : -9.9\n"
     ]
    }
   ],
   "source": [
    "\n",
    "\n",
    "for i in range(6,9):\n",
    "    \n",
    "    print(\"The dual value for constraint \",i,\" :\", round(constraints[i].dual_value, 2))\n"
   ]
  },
  {
   "cell_type": "code",
   "execution_count": null,
   "metadata": {},
   "outputs": [],
   "source": []
  }
 ],
 "metadata": {
  "kernelspec": {
   "display_name": "Python 3",
   "language": "python",
   "name": "python3"
  },
  "language_info": {
   "codemirror_mode": {
    "name": "ipython",
    "version": 3
   },
   "file_extension": ".py",
   "mimetype": "text/x-python",
   "name": "python",
   "nbconvert_exporter": "python",
   "pygments_lexer": "ipython3",
   "version": "3.8.5"
  }
 },
 "nbformat": 4,
 "nbformat_minor": 4
}
