{
 "cells": [
  {
   "cell_type": "code",
   "execution_count": 1,
   "metadata": {},
   "outputs": [],
   "source": [
    "from sympy import *\n",
    "import numpy as np\n",
    "from scipy import linalg"
   ]
  },
  {
   "cell_type": "code",
   "execution_count": 2,
   "metadata": {},
   "outputs": [],
   "source": [
    "x,y = symbols('x y', real=True)\n",
    "\n",
    "def d1(func):\n",
    "    \n",
    "    dx = diff(func,x)\n",
    "    dy = diff(func,y)\n",
    "    return [dx,dy]\n",
    "\n",
    "def d2(func):\n",
    "    \n",
    "    dx = diff(func,x)\n",
    "    dy = diff(func,y)\n",
    "    \n",
    "    dxx = diff(dx,x)\n",
    "    dxy = diff(dx,y)\n",
    "    dyx = diff(dy,x)\n",
    "    dyy = diff(dy,y)\n",
    "    \n",
    "    return [[dxx,dxy],[dyx,dyy]]\n",
    "    "
   ]
  },
  {
   "cell_type": "code",
   "execution_count": 3,
   "metadata": {},
   "outputs": [],
   "source": [
    "    \n",
    "def converge(s1,s2):    \n",
    "    \n",
    "    f = 100*(y-(x**2))**2 + (1-x)**2\n",
    "    x0 = s1\n",
    "    y0 = s2\n",
    "\n",
    "    j = d1(f)\n",
    "    h = d2(f)\n",
    "    j1 = j[0].subs([(x, x0), (y, y0)])\n",
    "    j2 = j[1].subs([(x, x0), (y, y0)])\n",
    "    res1 = Matrix([j1,j2])\n",
    "    h1 = h[0][0].subs([(x, x0), (y, y0)])\n",
    "    h2 = h[0][1].subs([(x, x0), (y, y0)])\n",
    "    h3 = h[1][0].subs([(x, x0), (y, y0)])\n",
    "    h4 = h[1][1].subs([(x, x0), (y, y0)])\n",
    "    res2 = Matrix([[h1,h2],[h3,h4]])\n",
    "    res2neg = Matrix([[-h1,-h2],[-h3,-h4]])\n",
    "    res2neg = res2neg.inv()\n",
    "\n",
    "    d0 = res2neg.dot(res1)\n",
    "    k = 0\n",
    "    e = 10**(-4)\n",
    "\n",
    "    while (res1.T).dot(res1) > e:\n",
    "\n",
    "        a = 1\n",
    "        c = 0.2\n",
    "        p = 0.1\n",
    "\n",
    "        d00 = d0[0]*a\n",
    "        d01 = d0[1]*a\n",
    "        m2 = Matrix([d00,d01])\n",
    "        inner = Matrix([x0,y0])+m2\n",
    "        func1 = f.subs([(x, inner[0]), (y, inner[1])])\n",
    "        func2 = f.subs([(x, x0), (y, y0)])\n",
    "        j1 = j[0].subs([(x, x0), (y, y0)])\n",
    "        j2 = j[1].subs([(x, x0), (y, y0)])\n",
    "        newj = Matrix([j1,j2]).T\n",
    "        final = newj.dot(d0)\n",
    "        while func1 > (func2 + c*a*final):\n",
    "\n",
    "            a = p*a\n",
    "            \n",
    "        d00 = d0[0]*a\n",
    "        d01 = d0[1]*a\n",
    "        m2 = Matrix([d00,d01])\n",
    "        inner = Matrix([x0,y0])+m2\n",
    "        x0 = inner[0]\n",
    "        y0 = inner[1]\n",
    "        print(\"X, Y: \",x0,y0)\n",
    "        print(\"Alpha: \",a)\n",
    "        \n",
    "        \n",
    "        j1 = j[0].subs([(x, x0), (y, y0)])\n",
    "        j2 = j[1].subs([(x, x0), (y, y0)])\n",
    "        res1 = Matrix([j1,j2])\n",
    "        h1 = h[0][0].subs([(x, x0), (y, y0)])\n",
    "        h2 = h[0][1].subs([(x, x0), (y, y0)])\n",
    "        h3 = h[1][0].subs([(x, x0), (y, y0)])\n",
    "        h4 = h[1][1].subs([(x, x0), (y, y0)])\n",
    "        res2 = Matrix([[h1,h2],[h3,h4]])\n",
    "        res2neg = Matrix([[-h1,-h2],[-h3,-h4]])\n",
    "        res2neg = res2neg.inv()\n",
    "\n",
    "        d0 = res2neg.dot(res1)\n",
    "\n",
    "        k += 1\n",
    "        print((res1.T).dot(res1))\n",
    "        \n",
    "    print(\"Done!\")\n",
    "\n"
   ]
  },
  {
   "cell_type": "code",
   "execution_count": null,
   "metadata": {},
   "outputs": [
    {
     "name": "stderr",
     "output_type": "stream",
     "text": [
      "/Users/Kalpana/opt/anaconda3/lib/python3.8/site-packages/sympy/matrices/matrices.py:1396: SymPyDeprecationWarning: \n",
      "\n",
      "Dot product of non row/column vectors has been deprecated since SymPy\n",
      "1.2. Use * to take matrix products instead. See\n",
      "https://github.com/sympy/sympy/issues/13815 for more info.\n",
      "\n",
      "  SymPyDeprecationWarning(\n"
     ]
    },
    {
     "name": "stdout",
     "output_type": "stream",
     "text": [
      "Matrix([[115.600000000000, -48.0000000000000]]) -11.5216326530613 \n",
      "\n",
      "\n",
      "X, Y:  1.19591836734694 1.43020408163266\n",
      "Alpha:  1\n",
      "0.159856101972653\n",
      "Matrix([[0.399806203197272, -0.00333194502269407]]) -0.0765131314744851 \n",
      "\n",
      "\n"
     ]
    }
   ],
   "source": [
    "converge(1.2,1.2)"
   ]
  },
  {
   "cell_type": "code",
   "execution_count": null,
   "metadata": {},
   "outputs": [],
   "source": [
    "converge(-1.2,1)"
   ]
  },
  {
   "cell_type": "code",
   "execution_count": null,
   "metadata": {},
   "outputs": [],
   "source": []
  },
  {
   "cell_type": "code",
   "execution_count": null,
   "metadata": {},
   "outputs": [],
   "source": []
  }
 ],
 "metadata": {
  "kernelspec": {
   "display_name": "Python 3",
   "language": "python",
   "name": "python3"
  },
  "language_info": {
   "codemirror_mode": {
    "name": "ipython",
    "version": 3
   },
   "file_extension": ".py",
   "mimetype": "text/x-python",
   "name": "python",
   "nbconvert_exporter": "python",
   "pygments_lexer": "ipython3",
   "version": "3.8.5"
  }
 },
 "nbformat": 4,
 "nbformat_minor": 4
}
